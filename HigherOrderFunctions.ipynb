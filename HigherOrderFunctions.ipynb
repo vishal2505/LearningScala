{
 "cells": [
  {
   "cell_type": "markdown",
   "metadata": {},
   "source": [
    "# Higher Order Functions in Scala\n",
    "\n",
    "This tutorial covers Higher Order Function syntax in Scala."
   ]
  },
  {
   "cell_type": "markdown",
   "metadata": {},
   "source": [
    "### Higher-Order Functions\n",
    "\n",
    "Higher-order functions in Scala can do following things.\n",
    "\n",
    "1. They can take a function as an argument.\n",
    "2. They can return a function as a value."
   ]
  },
  {
   "cell_type": "markdown",
   "metadata": {},
   "source": [
    "### How to create a function that takes another function as an argument?\n",
    "\n",
    "You can do this by defining an argument type annotation as a function type.\n",
    "\n",
    "##### Example"
   ]
  },
  {
   "cell_type": "code",
   "execution_count": 1,
   "metadata": {},
   "outputs": [
    {
     "data": {
      "text/plain": [
       "Intitializing Scala interpreter ..."
      ]
     },
     "metadata": {},
     "output_type": "display_data"
    },
    {
     "data": {
      "text/plain": [
       "Spark Web UI available at http://admins-mbp.lan:4040\n",
       "SparkContext available as 'sc' (version = 3.0.1, master = local[*], app id = local-1607316184701)\n",
       "SparkSession available as 'spark'\n"
      ]
     },
     "metadata": {},
     "output_type": "display_data"
    },
    {
     "data": {
      "text/plain": [
       "intDecorator: (x: Int, f: Int => String)String\n"
      ]
     },
     "execution_count": 1,
     "metadata": {},
     "output_type": "execute_result"
    }
   ],
   "source": [
    "def intDecorator(x:Int, f: Int => String) = f(x)"
   ]
  },
  {
   "cell_type": "markdown",
   "metadata": {},
   "source": [
    "The argument f has a function type (Int => String).\n",
    "\n",
    "So the intDecorator takes a function as a second argument. The type of the function must be Int => String.\n",
    "\n",
    "You can call it as shown below."
   ]
  },
  {
   "cell_type": "code",
   "execution_count": 2,
   "metadata": {},
   "outputs": [
    {
     "data": {
      "text/plain": [
       "res0: String = [5]\n"
      ]
     },
     "execution_count": 2,
     "metadata": {},
     "output_type": "execute_result"
    }
   ],
   "source": [
    "intDecorator(5, (y:Int) => \"[\" + y + \"]\" )"
   ]
  },
  {
   "cell_type": "markdown",
   "metadata": {},
   "source": [
    "### How to create a function that returns another function?\n",
    "\n",
    "You can do this by creating a function literal (anonymous function) as the last statement of a function.\n",
    "\n",
    "##### Example"
   ]
  },
  {
   "cell_type": "code",
   "execution_count": 3,
   "metadata": {},
   "outputs": [
    {
     "data": {
      "text/plain": [
       "greetSomeone: (prefix: String)String => Unit\n"
      ]
     },
     "execution_count": 3,
     "metadata": {},
     "output_type": "execute_result"
    }
   ],
   "source": [
    "def greetSomeone(prefix:String) = { \n",
    "    println(\"Got a prefix \" + prefix)\n",
    "    (name:String) => println(prefix + \" \" + name)\n",
    "}"
   ]
  },
  {
   "cell_type": "markdown",
   "metadata": {},
   "source": [
    "The last statement of the function is a function literal. Scala will automatically return the result of the last expression, i.e., It will return a function value.\n",
    "\n",
    "You can call this function as shown below."
   ]
  },
  {
   "cell_type": "code",
   "execution_count": 4,
   "metadata": {},
   "outputs": [
    {
     "name": "stdout",
     "output_type": "stream",
     "text": [
      "Got a prefix Hello\n",
      "Hello Prashant\n"
     ]
    },
    {
     "data": {
      "text/plain": [
       "hiSomeone: String => Unit = $Lambda$1822/1314400001@e1e915b\n"
      ]
     },
     "execution_count": 4,
     "metadata": {},
     "output_type": "execute_result"
    }
   ],
   "source": [
    "val hiSomeone = greetSomeone(\"Hello\")\n",
    "hiSomeone(\"Prashant\")"
   ]
  },
  {
   "cell_type": "markdown",
   "metadata": {},
   "source": [
    "### Some more examples"
   ]
  },
  {
   "cell_type": "markdown",
   "metadata": {},
   "source": [
    "#### Exercise - 1\n",
    "\n",
    "Create a function that takes an integer x as an input, and then it does following things.\n",
    "\n",
    "    (i)  Print the SQRT of the input parameter x\n",
    "    \n",
    "    (ii) Returns a function that takes another integer y as input\n",
    "    \n",
    "The returned function computes and returns the SQRT of x + y"
   ]
  },
  {
   "cell_type": "code",
   "execution_count": 7,
   "metadata": {},
   "outputs": [
    {
     "data": {
      "text/plain": [
       "calcSQRT: (x: Int)Int => Double\n"
      ]
     },
     "execution_count": 7,
     "metadata": {},
     "output_type": "execute_result"
    }
   ],
   "source": [
    "def calcSQRT(x:Int) = {\n",
    "    println(\"Sqayre root of \" + x + \" : \" + Math.sqrt(x))\n",
    "    (y:Int) => Math.sqrt(x+y)\n",
    "}"
   ]
  },
  {
   "cell_type": "code",
   "execution_count": 8,
   "metadata": {},
   "outputs": [
    {
     "name": "stdout",
     "output_type": "stream",
     "text": [
      "Sqayre root of 9 : 3.0\n"
     ]
    },
    {
     "data": {
      "text/plain": [
       "temp: Int => Double = $Lambda$1870/392438453@49f6113a\n",
       "res2: Double = 5.0\n"
      ]
     },
     "execution_count": 8,
     "metadata": {},
     "output_type": "execute_result"
    }
   ],
   "source": [
    "val temp = calcSQRT(9)\n",
    "temp(16)"
   ]
  },
  {
   "cell_type": "markdown",
   "metadata": {},
   "source": [
    "calcSQRT funciton will take one input integer then we can assign this to another function. We can get the final value by passing another integer to the newly created temp function.\n",
    "\n",
    "As we are creating a new function in the above example in order to call the first function, there is a better way of doing this - Use **currying**."
   ]
  },
  {
   "cell_type": "code",
   "execution_count": 9,
   "metadata": {},
   "outputs": [
    {
     "name": "stdout",
     "output_type": "stream",
     "text": [
      "Sqayre root of 9 : 3.0\n"
     ]
    },
    {
     "data": {
      "text/plain": [
       "res3: Double = 5.0\n"
      ]
     },
     "execution_count": 9,
     "metadata": {},
     "output_type": "execute_result"
    }
   ],
   "source": [
    "calcSQRT(9)(16)"
   ]
  },
  {
   "cell_type": "markdown",
   "metadata": {},
   "source": [
    "With currying you can provide function arguments in a chain way."
   ]
  },
  {
   "cell_type": "markdown",
   "metadata": {},
   "source": [
    "#### Exercise - 2\n",
    "\n",
    "Create a function SumX. It should take three parameters. The first two parameters are integer. The second parameter is the logic to calculate sum of first two parameters. You should be able to use the function to calculate sum of cubes of first two parameters as shown below.\n",
    "\n",
    "\n",
    "    sumX(3,5, (x,y) => x*x*x + y*y*y )"
   ]
  },
  {
   "cell_type": "code",
   "execution_count": 11,
   "metadata": {},
   "outputs": [
    {
     "data": {
      "text/plain": [
       "sumX: (x: Int, y: Int, f: (Int, Int) => Int)Int\n"
      ]
     },
     "execution_count": 11,
     "metadata": {},
     "output_type": "execute_result"
    }
   ],
   "source": [
    "def sumX(x:Int, y:Int, f: (Int,Int) => Int) = f(x,y) "
   ]
  },
  {
   "cell_type": "code",
   "execution_count": 12,
   "metadata": {},
   "outputs": [
    {
     "data": {
      "text/plain": [
       "res4: Int = 152\n"
      ]
     },
     "execution_count": 12,
     "metadata": {},
     "output_type": "execute_result"
    }
   ],
   "source": [
    "sumX(3,5, (x,y) => x*x*x + y*y*y )"
   ]
  },
  {
   "cell_type": "markdown",
   "metadata": {},
   "source": [
    "#### Exercise - 3\n",
    "\n",
    "Create a Higher order function which returns following output\n",
    "\n",
    "    fs1(\"Hi\")()\n",
    "\n",
    "    Output : - Hi There"
   ]
  },
  {
   "cell_type": "code",
   "execution_count": 14,
   "metadata": {},
   "outputs": [
    {
     "data": {
      "text/plain": [
       "fs1: String => (() => String) = $Lambda$1875/1347949054@41aba62f\n",
       "res6: String = Hi There\n"
      ]
     },
     "execution_count": 14,
     "metadata": {},
     "output_type": "execute_result"
    }
   ],
   "source": [
    "val fs1 = (prefix: String) => { () => prefix + \" \" + \"There\" }\n",
    "fs1(\"Hi\")()"
   ]
  },
  {
   "cell_type": "code",
   "execution_count": null,
   "metadata": {},
   "outputs": [],
   "source": []
  }
 ],
 "metadata": {
  "kernelspec": {
   "display_name": "spylon-kernel",
   "language": "scala",
   "name": "spylon-kernel"
  },
  "language_info": {
   "codemirror_mode": "text/x-scala",
   "file_extension": ".scala",
   "help_links": [
    {
     "text": "MetaKernel Magics",
     "url": "https://metakernel.readthedocs.io/en/latest/source/README.html"
    }
   ],
   "mimetype": "text/x-scala",
   "name": "scala",
   "pygments_lexer": "scala",
   "version": "0.4.1"
  }
 },
 "nbformat": 4,
 "nbformat_minor": 4
}
