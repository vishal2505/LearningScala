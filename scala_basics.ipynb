{
 "cells": [
  {
   "cell_type": "markdown",
   "metadata": {},
   "source": [
    "# Scala Basics"
   ]
  },
  {
   "cell_type": "markdown",
   "metadata": {},
   "source": [
    "## What is a Pure Function ?\n",
    "\n",
    "If a function qualifies below 3 properties then it's a pure function.\n",
    "\n",
    "1. The input solely determines the output.\n",
    "2. The function doesn't change it's input.\n",
    "3. The fucntion doesn't do anything else exception computing the output (No side effect).\n",
    "\n",
    "\n",
    "You an test the purity of a function using **refrential transparency**. A function is referential transparaent if evaluating it gives the same value with same arguments.\n",
    "\n",
    "\n"
   ]
  },
  {
   "cell_type": "markdown",
   "metadata": {},
   "source": [
    "## What is a first class function ?\n",
    "\n",
    "If you can treat a function as a value then it's a first class function.\n",
    "\n",
    "1. You can assign it to a variable.\n",
    "2. You can pass it as an arguments to other functions.\n",
    "3. You can return it as a value from other functions.\n",
    "\n",
    "\n",
    "In Scala, all functions are first class function by default.\n",
    "\n",
    "example - We'll do all 3 things with a function.\n"
   ]
  },
  {
   "cell_type": "code",
   "execution_count": 2,
   "metadata": {},
   "outputs": [
    {
     "data": {
      "text/plain": [
       "doubler: (i: Int)Int\n"
      ]
     },
     "execution_count": 2,
     "metadata": {},
     "output_type": "execute_result"
    }
   ],
   "source": [
    "def doubler(i:Int):Int = { return i * 2 }"
   ]
  },
  {
   "cell_type": "code",
   "execution_count": 3,
   "metadata": {},
   "outputs": [
    {
     "data": {
      "text/plain": [
       "d: Int => Int = $Lambda$1806/1944721087@55485a34\n",
       "res0: Int = 10\n"
      ]
     },
     "execution_count": 3,
     "metadata": {},
     "output_type": "execute_result"
    }
   ],
   "source": [
    "val d = doubler(_)\n",
    "d(5)"
   ]
  },
  {
   "cell_type": "code",
   "execution_count": 4,
   "metadata": {},
   "outputs": [
    {
     "data": {
      "text/plain": [
       "r: scala.collection.immutable.Range.Inclusive = Range 1 to 10\n",
       "res1: scala.collection.immutable.IndexedSeq[Int] = Vector(2, 4, 6, 8, 10, 12, 14, 16, 18, 20)\n"
      ]
     },
     "execution_count": 4,
     "metadata": {},
     "output_type": "execute_result"
    }
   ],
   "source": [
    "val r = 1 to 10\n",
    "r.map(doubler)"
   ]
  },
  {
   "cell_type": "markdown",
   "metadata": {},
   "source": [
    "In the above example, we are passing function - doubler as an arguments to map function."
   ]
  },
  {
   "cell_type": "markdown",
   "metadata": {},
   "source": [
    "## What is a higher order function ?\n",
    "\n",
    "If a funcion does one of the following then it's a higher order function.\n",
    "\n",
    "1. Takes one or more function as an arguments.\n",
    "2. Return a function as it results.\n"
   ]
  },
  {
   "cell_type": "code",
   "execution_count": 5,
   "metadata": {},
   "outputs": [
    {
     "data": {
      "text/plain": [
       "r: scala.collection.immutable.Range.Inclusive = Range 1 to 10\n",
       "res2: scala.collection.immutable.IndexedSeq[Int] = Vector(2, 4, 6, 8, 10, 12, 14, 16, 18, 20)\n"
      ]
     },
     "execution_count": 5,
     "metadata": {},
     "output_type": "execute_result"
    }
   ],
   "source": [
    "val r = 1 to 10\n",
    "r.map(doubler)"
   ]
  },
  {
   "cell_type": "markdown",
   "metadata": {},
   "source": [
    "In the same example as above, map() is a higher order function as it's taking another function as an argument."
   ]
  },
  {
   "cell_type": "markdown",
   "metadata": {},
   "source": [
    "#### Function as an Argument"
   ]
  },
  {
   "cell_type": "code",
   "execution_count": 6,
   "metadata": {},
   "outputs": [
    {
     "data": {
      "text/plain": [
       "math: (x: Double, y: Double, f: (Double, Double) => Double)Double\n"
      ]
     },
     "execution_count": 6,
     "metadata": {},
     "output_type": "execute_result"
    }
   ],
   "source": [
    "def math(x:Double, y:Double, f:(Double,Double)=>Double):Double = f(x,y)"
   ]
  },
  {
   "cell_type": "code",
   "execution_count": 7,
   "metadata": {},
   "outputs": [
    {
     "data": {
      "text/plain": [
       "addValues: Double = 70.0\n",
       "res3: Double = 70.0\n"
      ]
     },
     "execution_count": 7,
     "metadata": {},
     "output_type": "execute_result"
    }
   ],
   "source": [
    "val addValues = math(50,20, (x,y) => x + y)\n",
    "addValues"
   ]
  },
  {
   "cell_type": "code",
   "execution_count": 8,
   "metadata": {},
   "outputs": [
    {
     "data": {
      "text/plain": [
       "minValue: Double = 20.0\n"
      ]
     },
     "execution_count": 8,
     "metadata": {},
     "output_type": "execute_result"
    }
   ],
   "source": [
    "val minValue = math(50,20, (x,y) => x min y)"
   ]
  },
  {
   "cell_type": "markdown",
   "metadata": {},
   "source": [
    "#### Return Function as a Value"
   ]
  },
  {
   "cell_type": "code",
   "execution_count": 9,
   "metadata": {},
   "outputs": [
    {
     "data": {
      "text/plain": [
       "greetSomeone: (prefix: String)String => Unit\n"
      ]
     },
     "execution_count": 9,
     "metadata": {},
     "output_type": "execute_result"
    }
   ],
   "source": [
    "def greetSomeone(prefix:String) = { \n",
    "    println(\"Got a prefix \" + prefix)\n",
    "    (name:String) => println(prefix + \" \" + name)\n",
    "}"
   ]
  },
  {
   "cell_type": "markdown",
   "metadata": {},
   "source": [
    "The last statement of the function is a function literal. Scala will automatically return the result of the last expression, i.e., It will return a function value.\n",
    "\n",
    "You can call this function as shown below."
   ]
  },
  {
   "cell_type": "code",
   "execution_count": 11,
   "metadata": {},
   "outputs": [
    {
     "name": "stdout",
     "output_type": "stream",
     "text": [
      "Got a prefix Hello\n",
      "Hello Vishal\n"
     ]
    },
    {
     "data": {
      "text/plain": [
       "hiSomeone: String => Unit = $Lambda$1891/1958345925@4c89a4c2\n"
      ]
     },
     "execution_count": 11,
     "metadata": {},
     "output_type": "execute_result"
    }
   ],
   "source": [
    "val hiSomeone = greetSomeone(\"Hello\")\n",
    "hiSomeone(\"Vishal\")"
   ]
  },
  {
   "cell_type": "markdown",
   "metadata": {},
   "source": [
    "## What is an Anonymous function ?\n",
    "\n",
    "A function which has no name but has a body, input parameters and return type(option). This is also called **function literal**.\n",
    "\n",
    "We'll create same doubler function with an Anonymous function.\n",
    "\n",
    "(y:Int) => { y * 2}:Int\n",
    "\n",
    "We use anonymous function when we want an inline function with one time usage only."
   ]
  },
  {
   "cell_type": "markdown",
   "metadata": {},
   "source": [
    "### Without Anonymous Function"
   ]
  },
  {
   "cell_type": "code",
   "execution_count": 24,
   "metadata": {},
   "outputs": [
    {
     "data": {
      "text/plain": [
       "getOps: (x: Int)Int => Int\n"
      ]
     },
     "execution_count": 24,
     "metadata": {},
     "output_type": "execute_result"
    }
   ],
   "source": [
    "def getOps(x:Int) = (i:Int) => {\n",
    "    val doubler = (x:Int) => { x * 2 }\n",
    "    val tripler = (x:Int) => { x * 3 }\n",
    "    if (x > 0) doubler(i)\n",
    "        else tripler(i)\n",
    "}"
   ]
  },
  {
   "cell_type": "code",
   "execution_count": 25,
   "metadata": {},
   "outputs": [
    {
     "data": {
      "text/plain": [
       "r: scala.collection.immutable.Range.Inclusive = Range 1 to 10\n",
       "res10: scala.collection.immutable.IndexedSeq[Int] = Vector(3, 6, 9, 12, 15, 18, 21, 24, 27, 30)\n"
      ]
     },
     "execution_count": 25,
     "metadata": {},
     "output_type": "execute_result"
    }
   ],
   "source": [
    "val r = 1 to 10\n",
    "\n",
    "r.map(getOps(-4))"
   ]
  },
  {
   "cell_type": "code",
   "execution_count": 26,
   "metadata": {},
   "outputs": [
    {
     "data": {
      "text/plain": [
       "res11: scala.collection.immutable.IndexedSeq[Int] = Vector(2, 4, 6, 8, 10, 12, 14, 16, 18, 20)\n"
      ]
     },
     "execution_count": 26,
     "metadata": {},
     "output_type": "execute_result"
    }
   ],
   "source": [
    "r.map(getOps(3))"
   ]
  },
  {
   "cell_type": "markdown",
   "metadata": {},
   "source": [
    "### With Anonymous Function"
   ]
  },
  {
   "cell_type": "code",
   "execution_count": 27,
   "metadata": {},
   "outputs": [
    {
     "data": {
      "text/plain": [
       "getOps2: (x: Int)Int => Int\n"
      ]
     },
     "execution_count": 27,
     "metadata": {},
     "output_type": "execute_result"
    }
   ],
   "source": [
    "def getOps2(x:Int) = (i:Int) => {\n",
    "    if (x > 0) {i * 2}\n",
    "        else {i * 3}\n",
    "}"
   ]
  },
  {
   "cell_type": "code",
   "execution_count": 28,
   "metadata": {},
   "outputs": [
    {
     "data": {
      "text/plain": [
       "r: scala.collection.immutable.Range.Inclusive = Range 1 to 10\n",
       "res12: scala.collection.immutable.IndexedSeq[Int] = Vector(3, 6, 9, 12, 15, 18, 21, 24, 27, 30)\n"
      ]
     },
     "execution_count": 28,
     "metadata": {},
     "output_type": "execute_result"
    }
   ],
   "source": [
    "val r = 1 to 10\n",
    "\n",
    "r.map(getOps(-4))"
   ]
  },
  {
   "cell_type": "code",
   "execution_count": 29,
   "metadata": {},
   "outputs": [
    {
     "data": {
      "text/plain": [
       "res13: scala.collection.immutable.IndexedSeq[Int] = Vector(2, 4, 6, 8, 10, 12, 14, 16, 18, 20)\n"
      ]
     },
     "execution_count": 29,
     "metadata": {},
     "output_type": "execute_result"
    }
   ],
   "source": [
    "r.map(getOps(3))"
   ]
  },
  {
   "cell_type": "markdown",
   "metadata": {},
   "source": [
    "## Closures"
   ]
  },
  {
   "cell_type": "code",
   "execution_count": 20,
   "metadata": {},
   "outputs": [
    {
     "ename": "<console>",
     "evalue": "24: error: not found: value p",
     "output_type": "error",
     "traceback": [
      "<console>:24: error: not found: value p",
      "       def getSalaryHike(salary:Double) = salary * p/100",
      "                                                   ^",
      ""
     ]
    }
   ],
   "source": [
    "def getSalaryHike(salary:Double) = salary * p/100"
   ]
  },
  {
   "cell_type": "code",
   "execution_count": 21,
   "metadata": {},
   "outputs": [
    {
     "data": {
      "text/plain": [
       "p: Int = 10\n"
      ]
     },
     "execution_count": 21,
     "metadata": {},
     "output_type": "execute_result"
    }
   ],
   "source": [
    "val p = 10"
   ]
  },
  {
   "cell_type": "code",
   "execution_count": 22,
   "metadata": {},
   "outputs": [
    {
     "data": {
      "text/plain": [
       "getSalaryHike: (salary: Double)Double\n"
      ]
     },
     "execution_count": 22,
     "metadata": {},
     "output_type": "execute_result"
    }
   ],
   "source": [
    "def getSalaryHike(salary:Double) = salary * r/100"
   ]
  },
  {
   "cell_type": "code",
   "execution_count": 23,
   "metadata": {},
   "outputs": [
    {
     "data": {
      "text/plain": [
       "res9: Double = 1000.0\n"
      ]
     },
     "execution_count": 23,
     "metadata": {},
     "output_type": "execute_result"
    }
   ],
   "source": [
    "getSalaryHike(10000)"
   ]
  },
  {
   "cell_type": "markdown",
   "metadata": {},
   "source": [
    "## Function Literal Examples"
   ]
  },
  {
   "cell_type": "code",
   "execution_count": 30,
   "metadata": {},
   "outputs": [
    {
     "data": {
      "text/plain": [
       "strLiteral: String = Hello World\n"
      ]
     },
     "execution_count": 30,
     "metadata": {},
     "output_type": "execute_result"
    }
   ],
   "source": [
    "val strLiteral = \"Hello World\""
   ]
  },
  {
   "cell_type": "code",
   "execution_count": 31,
   "metadata": {},
   "outputs": [
    {
     "data": {
      "text/plain": [
       "intLiteral: Int = 5\n"
      ]
     },
     "execution_count": 31,
     "metadata": {},
     "output_type": "execute_result"
    }
   ],
   "source": [
    "val intLiteral = 5"
   ]
  },
  {
   "cell_type": "code",
   "execution_count": 32,
   "metadata": {},
   "outputs": [
    {
     "data": {
      "text/plain": [
       "funcLiteral: Int => Int = $Lambda$1910/1380898270@23363415\n"
      ]
     },
     "execution_count": 32,
     "metadata": {},
     "output_type": "execute_result"
    }
   ],
   "source": [
    "val funcLiteral = (x:Int) => { x + 5 }"
   ]
  },
  {
   "cell_type": "code",
   "execution_count": 33,
   "metadata": {},
   "outputs": [
    {
     "data": {
      "text/plain": [
       "res14: Int = 10\n"
      ]
     },
     "execution_count": 33,
     "metadata": {},
     "output_type": "execute_result"
    }
   ],
   "source": [
    "funcLiteral(5)"
   ]
  },
  {
   "cell_type": "markdown",
   "metadata": {},
   "source": [
    "### Map function\n",
    "\n",
    "<img src=\"images/map_function.png\">\n",
    "\n",
    "\n",
    "### Reduce function\n",
    "\n",
    "<img src=\"images/reduce_function.png\">"
   ]
  },
  {
   "cell_type": "markdown",
   "metadata": {},
   "source": [
    "## Placeholder Syntax\n",
    "\n",
    "<img src=\"images/placeholder_syntax_1.png\">\n",
    "\n",
    "\n",
    "\n",
    "#### first _ represent first paramater and second _ represent second paramter. In the below reduce example, we are passing only 2 paramters but providing 4 _ hence this is invalid.\n",
    "\n",
    "<img src=\"images/placeholder_syntax_2.png\">"
   ]
  },
  {
   "cell_type": "markdown",
   "metadata": {},
   "source": [
    "## Function Values\n",
    "\n",
    "<img src=\"images/function_values.png\">"
   ]
  },
  {
   "cell_type": "markdown",
   "metadata": {},
   "source": [
    "## Partially Applied Function\n",
    "\n",
    "we can create partially applied function from the generic function by putting value for one or more parametrs.\n",
    "\n",
    "For Example - We have a divison function which takes 2 arguments and calculate x/y. Now, we want to create another function called inverse function (1/y). In this case, we can use the same generic division function and can create an inverse function which will call the generic function with values as 1 and y."
   ]
  },
  {
   "cell_type": "code",
   "execution_count": 33,
   "metadata": {},
   "outputs": [
    {
     "data": {
      "text/plain": [
       "division: (x: Double, y: Double)Double\n"
      ]
     },
     "execution_count": 33,
     "metadata": {},
     "output_type": "execute_result"
    }
   ],
   "source": [
    "def division(x:Double, y:Double):Double = { x/y }"
   ]
  },
  {
   "cell_type": "code",
   "execution_count": 34,
   "metadata": {},
   "outputs": [
    {
     "data": {
      "text/plain": [
       "res17: Double = 5.0\n"
      ]
     },
     "execution_count": 34,
     "metadata": {},
     "output_type": "execute_result"
    }
   ],
   "source": [
    "division(15, 3)"
   ]
  },
  {
   "cell_type": "code",
   "execution_count": 35,
   "metadata": {},
   "outputs": [
    {
     "data": {
      "text/plain": [
       "inverse: Double => Double = $Lambda$2037/129296962@e2c426b\n"
      ]
     },
     "execution_count": 35,
     "metadata": {},
     "output_type": "execute_result"
    }
   ],
   "source": [
    "val inverse = division(1, _:Double)"
   ]
  },
  {
   "cell_type": "code",
   "execution_count": 36,
   "metadata": {},
   "outputs": [
    {
     "data": {
      "text/plain": [
       "res18: Double = 0.2\n"
      ]
     },
     "execution_count": 36,
     "metadata": {},
     "output_type": "execute_result"
    }
   ],
   "source": [
    "inverse(5)"
   ]
  },
  {
   "cell_type": "markdown",
   "metadata": {},
   "source": [
    "### Another Example -\n",
    "\n",
    "Calculate following sums for 1 to 5.\n",
    "\n",
    "1. Sum of Numbers\n",
    "\n",
    "    ```1 + 2 + 3 + 4 + 5 = 15```\n",
    "    \n",
    "2. Sum of Squares \n",
    "\n",
    "    ```1*1 + 2*2 + 3*3 + 4*4 + 5*5 = 55```\n",
    "    \n",
    "3. Sum of Cubes\n",
    "\n",
    "    ```1*1*1 + 2*2*2 + 3*3*3 + 4*4*4 + 5*5*5 = 225```"
   ]
  },
  {
   "cell_type": "markdown",
   "metadata": {},
   "source": [
    "#### Using Higher Order Functions"
   ]
  },
  {
   "cell_type": "code",
   "execution_count": 40,
   "metadata": {},
   "outputs": [
    {
     "data": {
      "text/plain": [
       "sumOfX: (f: Int => Int, x: Int, y: Int)Int\n"
      ]
     },
     "execution_count": 40,
     "metadata": {},
     "output_type": "execute_result"
    }
   ],
   "source": [
    "def sumOfX(f:Int=>Int, x:Int, y:Int):Int = {\n",
    "    if (x > y) 0 else f(x) + sumOfX(f, x+1, y)\n",
    "}"
   ]
  },
  {
   "cell_type": "code",
   "execution_count": 41,
   "metadata": {},
   "outputs": [
    {
     "data": {
      "text/plain": [
       "res19: Int = 15\n"
      ]
     },
     "execution_count": 41,
     "metadata": {},
     "output_type": "execute_result"
    }
   ],
   "source": [
    "sumOfX(x => x, 1,5)"
   ]
  },
  {
   "cell_type": "code",
   "execution_count": 43,
   "metadata": {},
   "outputs": [
    {
     "data": {
      "text/plain": [
       "res21: Int = 55\n"
      ]
     },
     "execution_count": 43,
     "metadata": {},
     "output_type": "execute_result"
    }
   ],
   "source": [
    "sumOfX(x => x*x, 1,5)"
   ]
  },
  {
   "cell_type": "code",
   "execution_count": 44,
   "metadata": {},
   "outputs": [
    {
     "data": {
      "text/plain": [
       "res22: Int = 225\n"
      ]
     },
     "execution_count": 44,
     "metadata": {},
     "output_type": "execute_result"
    }
   ],
   "source": [
    "sumOfX(x => x*x*x, 1,5)"
   ]
  },
  {
   "cell_type": "markdown",
   "metadata": {},
   "source": [
    "#### Using Partially Applied Functions"
   ]
  },
  {
   "cell_type": "code",
   "execution_count": 48,
   "metadata": {},
   "outputs": [
    {
     "data": {
      "text/plain": [
       "sumOfCubes: (Int, Int) => Int = $Lambda$2050/519983646@5734d9dd\n"
      ]
     },
     "execution_count": 48,
     "metadata": {},
     "output_type": "execute_result"
    }
   ],
   "source": [
    "val sumOfCubes = sumOfX(x => x*x*x, _:Int, _:Int)               "
   ]
  },
  {
   "cell_type": "code",
   "execution_count": 49,
   "metadata": {},
   "outputs": [
    {
     "data": {
      "text/plain": [
       "res24: Int = 225\n"
      ]
     },
     "execution_count": 49,
     "metadata": {},
     "output_type": "execute_result"
    }
   ],
   "source": [
    "sumOfCubes(1,5)"
   ]
  },
  {
   "cell_type": "markdown",
   "metadata": {},
   "source": [
    "#### Another way of defining partially applied functions\n",
    "\n",
    "<img src=\"images/paf.png\">"
   ]
  },
  {
   "cell_type": "markdown",
   "metadata": {},
   "source": [
    "## Function Currying -\n",
    "\n",
    "Generally used with higher order functions and partially applied functions.\n",
    "\n",
    "Way of grouping functions and arguments separately.\n",
    "\n",
    "<img src=\"images/function_currying.png\">"
   ]
  },
  {
   "cell_type": "markdown",
   "metadata": {},
   "source": [
    "## Class and Objects"
   ]
  },
  {
   "cell_type": "markdown",
   "metadata": {},
   "source": [
    "In scala, It's very simple to create a class with public ```getter()``` and ```setter()``` methods.\n",
    "\n",
    "You will just have to create a class and scala will automatically create the ```getter/reader``` and ```setter/writer``` methods.\n",
    "\n",
    "Let's understand with below example, we are creating a circle class with ```radius``` as a property and ```draw()``` as a method. After creating the class, scala compiler will create 2 methods :  radius (getter) and radius_ (setter).\n",
    "\n",
    "After instantiating you can get the value using ```instanceVar.radius``` and you can set the value with ```instanceVar.radius_=(<value>)``` or ```instanceVar.radius = <value>```\n"
   ]
  },
  {
   "cell_type": "code",
   "execution_count": 10,
   "metadata": {},
   "outputs": [
    {
     "data": {
      "text/plain": [
       "defined class Circle\n"
      ]
     },
     "execution_count": 10,
     "metadata": {},
     "output_type": "execute_result"
    }
   ],
   "source": [
    "class Circle() {\n",
    "    var radius = 0\n",
    "    def draw = {\n",
    "        println(\"Drawing the circle of radius \" + radius)\n",
    "    }\n",
    "}"
   ]
  },
  {
   "cell_type": "code",
   "execution_count": 11,
   "metadata": {},
   "outputs": [
    {
     "data": {
      "text/plain": [
       "c: Circle = Circle@31a83615\n"
      ]
     },
     "execution_count": 11,
     "metadata": {},
     "output_type": "execute_result"
    }
   ],
   "source": [
    "val c = new Circle"
   ]
  },
  {
   "cell_type": "code",
   "execution_count": 12,
   "metadata": {},
   "outputs": [
    {
     "data": {
      "text/plain": [
       "res4: Int = 0\n"
      ]
     },
     "execution_count": 12,
     "metadata": {},
     "output_type": "execute_result"
    }
   ],
   "source": [
    "c.radius"
   ]
  },
  {
   "cell_type": "code",
   "execution_count": 13,
   "metadata": {},
   "outputs": [],
   "source": [
    "c.radius_=(5)"
   ]
  },
  {
   "cell_type": "code",
   "execution_count": 14,
   "metadata": {},
   "outputs": [
    {
     "data": {
      "text/plain": [
       "res6: Int = 5\n"
      ]
     },
     "execution_count": 14,
     "metadata": {},
     "output_type": "execute_result"
    }
   ],
   "source": [
    "c.radius"
   ]
  },
  {
   "cell_type": "code",
   "execution_count": 15,
   "metadata": {},
   "outputs": [
    {
     "data": {
      "text/plain": [
       "c.radius: Int = 7\n"
      ]
     },
     "execution_count": 15,
     "metadata": {},
     "output_type": "execute_result"
    }
   ],
   "source": [
    "c.radius = 7"
   ]
  },
  {
   "cell_type": "code",
   "execution_count": 16,
   "metadata": {},
   "outputs": [
    {
     "data": {
      "text/plain": [
       "res7: Int = 7\n"
      ]
     },
     "execution_count": 16,
     "metadata": {},
     "output_type": "execute_result"
    }
   ],
   "source": [
    "c.radius"
   ]
  },
  {
   "cell_type": "markdown",
   "metadata": {},
   "source": [
    "You don't need to create a separate Primary Constructor. You can define it with the class which will take arguments and class body will also be used as constructor body.\n",
    "\n",
    "\n",
    "#### Auxiliary Constructors - \n",
    "\n",
    "If you want to have a contructor with variable no of arguments as well as default constructor(0 argument), then create a contructor with max no of arguments and define the auxiliary contructors - default and less arguments inside class/constructor body using ```this()``` keyword.\n",
    "<img src = \"images/class_1.png\">\n",
    "\n",
    "<img src = \"images/class_2.png\">\n",
    "\n",
    "If you don't want to create **writer** method, then define the arguments as **val** in the class arguments.\n",
    "\n",
    "If you dont't want to create **reader** method, then define the arguments as **private** in the class arguments.\n",
    "\n",
    "If you don't provide ```var/val/private```, then scala will not create any reader or writer method.\n",
    "\n",
    "<img src = \"images/class_3.png\">"
   ]
  },
  {
   "cell_type": "markdown",
   "metadata": {},
   "source": [
    "## Companion Objects"
   ]
  },
  {
   "cell_type": "markdown",
   "metadata": {},
   "source": [
    "If we define the class and object with the same name in the same file then that object is called **Companion Object**.\n",
    "We use the object for keeping static or global methods and the class for keeping non-static methods.\n",
    "\n",
    "We can use the ```apply()``` method both in the class as well as in the object. We can use the ```apply()``` method in the object and call the class with the **new** keyword, so that we can instantiate the class directly from outside without using the **new** keyword.\n",
    "\n",
    "\n",
    "You don't need to call ```apply()``` method explicitly."
   ]
  },
  {
   "cell_type": "markdown",
   "metadata": {},
   "source": [
    "<img src=\"images/comp_object_1.png\">\n",
    "\n",
    "#### If you want to restrict the user not to use the **new** keyword for instantiating the class then define the constructor as **private** in the class definition.\n",
    "\n",
    "<img src=\"images/comp_object_2.png\">"
   ]
  },
  {
   "cell_type": "markdown",
   "metadata": {},
   "source": [
    "In the below exmaple - we are calling ```apply()``` method of the **object** using List() keyword. We are not using new keyword here for instantiating a List because apply method is there in the List Companion Object."
   ]
  },
  {
   "cell_type": "code",
   "execution_count": 17,
   "metadata": {},
   "outputs": [
    {
     "data": {
      "text/plain": [
       "mylist: List[String] = List(India, Ausrtalia, Japan, China)\n"
      ]
     },
     "execution_count": 17,
     "metadata": {},
     "output_type": "execute_result"
    }
   ],
   "source": [
    "val mylist = List(\"India\", \"Ausrtalia\", \"Japan\", \"China\")"
   ]
  },
  {
   "cell_type": "markdown",
   "metadata": {},
   "source": [
    "When we are accessing list elements using an instance varaible - mylist, we are actually calling an ```apply()``` method of the **class** List. "
   ]
  },
  {
   "cell_type": "code",
   "execution_count": 54,
   "metadata": {},
   "outputs": [
    {
     "data": {
      "text/plain": [
       "res26: String = India\n"
      ]
     },
     "execution_count": 54,
     "metadata": {},
     "output_type": "execute_result"
    }
   ],
   "source": [
    "mylist(0)"
   ]
  },
  {
   "cell_type": "code",
   "execution_count": null,
   "metadata": {},
   "outputs": [],
   "source": []
  }
 ],
 "metadata": {
  "kernelspec": {
   "display_name": "spylon-kernel",
   "language": "scala",
   "name": "spylon-kernel"
  },
  "language_info": {
   "codemirror_mode": "text/x-scala",
   "file_extension": ".scala",
   "help_links": [
    {
     "text": "MetaKernel Magics",
     "url": "https://metakernel.readthedocs.io/en/latest/source/README.html"
    }
   ],
   "mimetype": "text/x-scala",
   "name": "scala",
   "pygments_lexer": "scala",
   "version": "0.4.1"
  }
 },
 "nbformat": 4,
 "nbformat_minor": 4
}
